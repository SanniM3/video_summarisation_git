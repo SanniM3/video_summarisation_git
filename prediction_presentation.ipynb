{
 "cells": [
  {
   "cell_type": "code",
   "execution_count": null,
   "id": "9f1b8b60",
   "metadata": {},
   "outputs": [],
   "source": [
    "import json\n",
    "import pandas as pd\n",
    "from IPython.display import HTML\n",
    "from io import StringIO\n",
    "\n",
    "pd.set_option(\"display.max_rows\",500)"
   ]
  },
  {
   "cell_type": "markdown",
   "id": "7e38164c",
   "metadata": {},
   "source": [
    "# Read predicted captions from json"
   ]
  },
  {
   "cell_type": "code",
   "execution_count": null,
   "id": "ffd4d948",
   "metadata": {},
   "outputs": [],
   "source": [
    "with open('pyscene_test_predictions_epoch19.json') as captions_file:\n",
    "    caption_json = json.load(captions_file)"
   ]
  },
  {
   "cell_type": "code",
   "execution_count": null,
   "id": "15f90074",
   "metadata": {},
   "outputs": [],
   "source": [
    "captions = pd.DataFrame(caption_json['sentences'])"
   ]
  },
  {
   "cell_type": "code",
   "execution_count": null,
   "id": "a4103457",
   "metadata": {},
   "outputs": [],
   "source": [
    "captions = captions.sort_values('video_id')"
   ]
  },
  {
   "cell_type": "code",
   "execution_count": null,
   "id": "6508b5d3",
   "metadata": {},
   "outputs": [],
   "source": [
    "captions.head(500)"
   ]
  },
  {
   "cell_type": "code",
   "execution_count": null,
   "id": "82afd44d",
   "metadata": {},
   "outputs": [],
   "source": [
    "captions['src'] = \"test_frames/test_set_sampling_comparison/comparisons/\"+captions['video_id']+\"_concat.jpg\""
   ]
  },
  {
   "cell_type": "code",
   "execution_count": null,
   "id": "afd46db5",
   "metadata": {},
   "outputs": [],
   "source": [
    "captions['img'] = '<img src=\"' + captions[\"src\"] + '\">'"
   ]
  },
  {
   "cell_type": "code",
   "execution_count": null,
   "id": "26418be2",
   "metadata": {},
   "outputs": [],
   "source": [
    "captions.head(3)"
   ]
  },
  {
   "cell_type": "markdown",
   "id": "7fca8cb8",
   "metadata": {},
   "source": [
    "# Get human generated captions"
   ]
  },
  {
   "cell_type": "code",
   "execution_count": null,
   "id": "7614b89b",
   "metadata": {},
   "outputs": [],
   "source": [
    "with open('test_videodatainfo.json','r') as f:\n",
    "    expected_captions_json = json.load(f)"
   ]
  },
  {
   "cell_type": "code",
   "execution_count": null,
   "id": "88e95bd6",
   "metadata": {},
   "outputs": [],
   "source": [
    "expected_captions = pd.DataFrame(expected_captions_json['sentences'])"
   ]
  },
  {
   "cell_type": "code",
   "execution_count": null,
   "id": "0b7d06ea",
   "metadata": {},
   "outputs": [],
   "source": [
    "expected_captions = expected_captions.drop('sen_id',axis=1)"
   ]
  },
  {
   "cell_type": "code",
   "execution_count": null,
   "id": "2ed5f314",
   "metadata": {},
   "outputs": [],
   "source": [
    "expected_captions = expected_captions.groupby('video_id').agg({'caption':list})\n",
    "expected_captions = expected_captions.rename(mapper={'caption': 'expected'},axis=1)"
   ]
  },
  {
   "cell_type": "code",
   "execution_count": null,
   "id": "3c32ad50",
   "metadata": {},
   "outputs": [],
   "source": [
    "def listify(my_list):\n",
    "    \"\"\"make a python list of strings into a html list (<ul>)\n",
    "    :returns a <ul> as a string\n",
    "    \"\"\"\n",
    "    ret = StringIO()\n",
    "    ret.write(\"<ul>\")\n",
    "    for element in my_list:\n",
    "        ret.write(\"<li>\")\n",
    "        ret.write(element)\n",
    "        ret.write(\"</li>\")\n",
    "    ret.write(\"</ul>\")\n",
    "    return ret.getvalue()"
   ]
  },
  {
   "cell_type": "code",
   "execution_count": null,
   "id": "0411f62a",
   "metadata": {},
   "outputs": [],
   "source": [
    "expected_captions['expected_html'] = expected_captions['expected'].apply(listify)"
   ]
  },
  {
   "cell_type": "code",
   "execution_count": null,
   "id": "3868cb63",
   "metadata": {},
   "outputs": [],
   "source": [
    "expected_captions"
   ]
  },
  {
   "cell_type": "markdown",
   "id": "640b6a4e",
   "metadata": {},
   "source": [
    "# Merge predicted & human captions"
   ]
  },
  {
   "cell_type": "code",
   "execution_count": null,
   "id": "66c514c0",
   "metadata": {},
   "outputs": [],
   "source": [
    "captions = pd.merge(left=captions, right=expected_captions, on='video_id')\n",
    "captions = captions.set_index('video_id')"
   ]
  },
  {
   "cell_type": "code",
   "execution_count": null,
   "id": "59f8dc1b",
   "metadata": {},
   "outputs": [],
   "source": [
    "# Present Result"
   ]
  },
  {
   "cell_type": "code",
   "execution_count": null,
   "id": "1a49b0b5",
   "metadata": {
    "scrolled": false
   },
   "outputs": [],
   "source": [
    "table = HTML(captions[['caption', 'expected_html', 'img']].to_html(escape=False))"
   ]
  },
  {
   "cell_type": "code",
   "execution_count": null,
   "id": "a67ede20",
   "metadata": {},
   "outputs": [],
   "source": [
    "# write to html file for easier viewing\n",
    "with open('data_out.html','w') as out:\n",
    "    out.write(table.data)\n"
   ]
  },
  {
   "cell_type": "code",
   "execution_count": null,
   "id": "e8d80b75",
   "metadata": {},
   "outputs": [],
   "source": [
    "# display in notebook\n",
    "table"
   ]
  }
 ],
 "metadata": {
  "kernelspec": {
   "display_name": "Python 3 (ipykernel)",
   "language": "python",
   "name": "python3"
  },
  "language_info": {
   "codemirror_mode": {
    "name": "ipython",
    "version": 3
   },
   "file_extension": ".py",
   "mimetype": "text/x-python",
   "name": "python",
   "nbconvert_exporter": "python",
   "pygments_lexer": "ipython3",
   "version": "3.9.12"
  }
 },
 "nbformat": 4,
 "nbformat_minor": 5
}
