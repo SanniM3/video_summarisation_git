{
 "cells": [
  {
   "cell_type": "code",
   "execution_count": null,
   "id": "9f1b8b60",
   "metadata": {},
   "outputs": [],
   "source": [
    "import json\n",
    "import pandas as pd\n",
    "from IPython.display import HTML\n",
    "from io import StringIO\n",
    "\n",
    "pd.set_option(\"display.max_rows\",500)"
   ]
  },
  {
   "cell_type": "code",
   "execution_count": null,
   "id": "3c32ad50",
   "metadata": {},
   "outputs": [],
   "source": [
    "def listify(my_list):\n",
    "    \"\"\"make a python list of strings into a html list (<ul>)\n",
    "    :returns a <ul> as a string\n",
    "    \"\"\"\n",
    "    ret = StringIO()\n",
    "    ret.write(\"<ul>\")\n",
    "    for element in my_list:\n",
    "        ret.write(\"<li>\")\n",
    "        ret.write(str(element))\n",
    "        ret.write(\"</li>\")\n",
    "    ret.write(\"</ul>\")\n",
    "    return ret.getvalue()"
   ]
  },
  {
   "cell_type": "markdown",
   "id": "7e38164c",
   "metadata": {},
   "source": [
    "# Read predicted captions from json"
   ]
  },
  {
   "cell_type": "code",
   "execution_count": null,
   "id": "d9ab0355",
   "metadata": {},
   "outputs": [],
   "source": [
    "def build_prediction_table(prediction_json, sampler):    \n",
    "    with open(prediction_json) as captions_file:\n",
    "        caption_json = json.load(captions_file)\n",
    "    captions = pd.DataFrame(caption_json['sentences'])\n",
    "    captions = captions.sort_values('video_id')\n",
    "    captions['captions'] = captions['caption'].apply(lambda x: (sampler, x,))\n",
    "    return captions\n",
    "\n",
    "def add_thumbs(predition_table):\n",
    "    predition_table['src'] = \"test_frames/test_set_sampling_comparison/comparisons/\"+predition_table['video_id']+\"_concat.jpg\"\n",
    "    predition_table['img'] = '<img src=\"' + predition_table[\"src\"] + '\">'\n",
    "    return predition_table"
   ]
  },
  {
   "cell_type": "code",
   "execution_count": null,
   "id": "5dca2d3c",
   "metadata": {},
   "outputs": [],
   "source": [
    "pyscene = build_prediction_table('pyscene_test_predictions_epoch19.json','pyscene')\n",
    "transnet = build_prediction_table('transnet_test_predictions_epoch19.json', 'transnet')"
   ]
  },
  {
   "cell_type": "code",
   "execution_count": null,
   "id": "e84d7400",
   "metadata": {},
   "outputs": [],
   "source": [
    "transnet['video_id'] == pyscene['video_id']"
   ]
  },
  {
   "cell_type": "code",
   "execution_count": null,
   "id": "90199c87",
   "metadata": {},
   "outputs": [],
   "source": [
    "captions = pd.concat([transnet,pyscene])"
   ]
  },
  {
   "cell_type": "code",
   "execution_count": null,
   "id": "fe01dcb3",
   "metadata": {},
   "outputs": [],
   "source": [
    "captions[captions['video_id'] == 'video7014']"
   ]
  },
  {
   "cell_type": "code",
   "execution_count": null,
   "id": "c0a49f55",
   "metadata": {},
   "outputs": [],
   "source": [
    "captions = captions.drop('caption',axis=1)"
   ]
  },
  {
   "cell_type": "code",
   "execution_count": null,
   "id": "b7c76080",
   "metadata": {},
   "outputs": [],
   "source": [
    "captions = captions.groupby('video_id').agg({'captions':list})\n",
    "captions = captions.reset_index()"
   ]
  },
  {
   "cell_type": "code",
   "execution_count": null,
   "id": "64f1cbf1",
   "metadata": {},
   "outputs": [],
   "source": [
    "captions = add_thumbs(captions)"
   ]
  },
  {
   "cell_type": "code",
   "execution_count": null,
   "id": "0f63f768",
   "metadata": {},
   "outputs": [],
   "source": [
    "captions['captions'] = captions['captions'].apply(\n",
    "    lambda list_of_tuples: {tup[0]:tup[1] for tup in list_of_tuples}\n",
    ")\n",
    "\n",
    "def sort_caps_by_sample(sample_cap_dict):\n",
    "    return [\n",
    "        f\"{sampler}:&nbsp;&nbsp;&nbsp;{sample_cap_dict.get(sampler)}\"\n",
    "        for sampler in ['random', 'pyscene', 'transnet']\n",
    "    ]\n",
    "captions['captions'] = captions['captions'].apply(sort_caps_by_sample)"
   ]
  },
  {
   "cell_type": "code",
   "execution_count": null,
   "id": "895d97a2",
   "metadata": {},
   "outputs": [],
   "source": []
  },
  {
   "cell_type": "code",
   "execution_count": null,
   "id": "6077c950",
   "metadata": {},
   "outputs": [],
   "source": [
    "captions['captions'] = captions['captions'].apply(listify)"
   ]
  },
  {
   "cell_type": "code",
   "execution_count": null,
   "id": "f55f9d9a",
   "metadata": {},
   "outputs": [],
   "source": [
    "captions"
   ]
  },
  {
   "cell_type": "markdown",
   "id": "7fca8cb8",
   "metadata": {},
   "source": [
    "# Get human generated captions"
   ]
  },
  {
   "cell_type": "code",
   "execution_count": null,
   "id": "7614b89b",
   "metadata": {},
   "outputs": [],
   "source": [
    "with open('test_videodatainfo.json','r') as f:\n",
    "    expected_captions_json = json.load(f)"
   ]
  },
  {
   "cell_type": "code",
   "execution_count": null,
   "id": "38481080",
   "metadata": {},
   "outputs": [],
   "source": [
    "expected_captions = pd.DataFrame(expected_captions_json['sentences'])"
   ]
  },
  {
   "cell_type": "code",
   "execution_count": null,
   "id": "88e95bd6",
   "metadata": {},
   "outputs": [],
   "source": [
    "expected_captions_json['videos']"
   ]
  },
  {
   "cell_type": "code",
   "execution_count": null,
   "id": "0b7d06ea",
   "metadata": {},
   "outputs": [],
   "source": [
    "expected_captions = expected_captions.drop('sen_id',axis=1)"
   ]
  },
  {
   "cell_type": "code",
   "execution_count": null,
   "id": "2ed5f314",
   "metadata": {},
   "outputs": [],
   "source": [
    "expected_captions = expected_captions.groupby('video_id').agg({'caption':list})\n",
    "expected_captions = expected_captions.rename(mapper={'caption': 'expected'},axis=1)"
   ]
  },
  {
   "cell_type": "code",
   "execution_count": null,
   "id": "0411f62a",
   "metadata": {},
   "outputs": [],
   "source": [
    "expected_captions['expected_html'] = expected_captions['expected'].apply(listify)"
   ]
  },
  {
   "cell_type": "code",
   "execution_count": null,
   "id": "3868cb63",
   "metadata": {},
   "outputs": [],
   "source": [
    "expected_captions"
   ]
  },
  {
   "cell_type": "markdown",
   "id": "640b6a4e",
   "metadata": {},
   "source": [
    "# Merge predicted & human captions"
   ]
  },
  {
   "cell_type": "code",
   "execution_count": null,
   "id": "66c514c0",
   "metadata": {},
   "outputs": [],
   "source": [
    "captions = pd.merge(left=captions, right=expected_captions, on='video_id')\n",
    "captions = captions.set_index('video_id')\n",
    "captions = captions.drop(['src', 'expected'], axis=1)\n"
   ]
  },
  {
   "cell_type": "code",
   "execution_count": null,
   "id": "59f8dc1b",
   "metadata": {},
   "outputs": [],
   "source": [
    "# Present Result"
   ]
  },
  {
   "cell_type": "code",
   "execution_count": null,
   "id": "1a49b0b5",
   "metadata": {
    "scrolled": false
   },
   "outputs": [],
   "source": [
    "table = HTML(captions[['expected_html','captions', 'img']].to_html(escape=False))"
   ]
  },
  {
   "cell_type": "code",
   "execution_count": null,
   "id": "a67ede20",
   "metadata": {},
   "outputs": [],
   "source": [
    "# write to html file for easier viewing\n",
    "with open('data_out.html','w') as out:\n",
    "    out.write(table.data)\n"
   ]
  },
  {
   "cell_type": "code",
   "execution_count": null,
   "id": "e8d80b75",
   "metadata": {},
   "outputs": [],
   "source": [
    "# display in notebook\n",
    "table"
   ]
  },
  {
   "cell_type": "code",
   "execution_count": null,
   "id": "edf547a6",
   "metadata": {},
   "outputs": [],
   "source": []
  }
 ],
 "metadata": {
  "kernelspec": {
   "display_name": "Python 3 (ipykernel)",
   "language": "python",
   "name": "python3"
  },
  "language_info": {
   "codemirror_mode": {
    "name": "ipython",
    "version": 3
   },
   "file_extension": ".py",
   "mimetype": "text/x-python",
   "name": "python",
   "nbconvert_exporter": "python",
   "pygments_lexer": "ipython3",
   "version": "3.9.12"
  }
 },
 "nbformat": 4,
 "nbformat_minor": 5
}
